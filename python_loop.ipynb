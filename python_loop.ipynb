{
  "nbformat": 4,
  "nbformat_minor": 0,
  "metadata": {
    "colab": {
      "name": "python_loop.ipynb",
      "provenance": []
    },
    "kernelspec": {
      "name": "python3",
      "display_name": "Python 3"
    },
    "language_info": {
      "name": "python"
    }
  },
  "cells": [
    {
      "cell_type": "code",
      "execution_count": 1,
      "metadata": {
        "id": "-ETIY1WWIkNr"
      },
      "outputs": [],
      "source": [
        "import numpy as np"
      ]
    },
    {
      "cell_type": "code",
      "source": [
        ""
      ],
      "metadata": {
        "id": "v8K33bb5Ima6"
      },
      "execution_count": null,
      "outputs": []
    },
    {
      "cell_type": "markdown",
      "source": [
        "# LOOP"
      ],
      "metadata": {
        "id": "Jbfiv8rrIn_-"
      }
    },
    {
      "cell_type": "code",
      "source": [
        ""
      ],
      "metadata": {
        "id": "j_8p9oHsIrMW"
      },
      "execution_count": null,
      "outputs": []
    },
    {
      "cell_type": "markdown",
      "source": [
        "### IF loop"
      ],
      "metadata": {
        "id": "1MjQVhHYIt6d"
      }
    },
    {
      "cell_type": "code",
      "source": [
        "str = int(input(\"enter here  \"  ))\n",
        "\n",
        "if str < 10:\n",
        "  print(\"less than 10\")\n",
        "elif str < 20:\n",
        "  print(\"less than 20\")"
      ],
      "metadata": {
        "colab": {
          "base_uri": "https://localhost:8080/"
        },
        "id": "SgX9LCAmIz72",
        "outputId": "b4d2af09-d6d7-49ba-8096-90a31e68e161"
      },
      "execution_count": 4,
      "outputs": [
        {
          "output_type": "stream",
          "name": "stdout",
          "text": [
            "enter here  15\n",
            "less than 20\n"
          ]
        }
      ]
    },
    {
      "cell_type": "code",
      "source": [
        ""
      ],
      "metadata": {
        "id": "sAs49CJzI7Gx"
      },
      "execution_count": 4,
      "outputs": []
    },
    {
      "cell_type": "code",
      "source": [
        ""
      ],
      "metadata": {
        "id": "TZ6eF2eFJcga"
      },
      "execution_count": null,
      "outputs": []
    },
    {
      "cell_type": "markdown",
      "source": [
        "### WHILE loop\n"
      ],
      "metadata": {
        "id": "SQQitjyAJdoU"
      }
    },
    {
      "cell_type": "code",
      "source": [
        "i = 1\n",
        "\n",
        "while i < 10:\n",
        "  print(i)\n",
        "  i+=1"
      ],
      "metadata": {
        "colab": {
          "base_uri": "https://localhost:8080/"
        },
        "id": "m4_rd54-Jga0",
        "outputId": "90e1a8b4-1a18-4eba-dc1e-8909387233ec"
      },
      "execution_count": 5,
      "outputs": [
        {
          "output_type": "stream",
          "name": "stdout",
          "text": [
            "1\n",
            "2\n",
            "3\n",
            "4\n",
            "5\n",
            "6\n",
            "7\n",
            "8\n",
            "9\n"
          ]
        }
      ]
    },
    {
      "cell_type": "code",
      "source": [
        "i = 55\n",
        "\n",
        "while i < 70:\n",
        "  print(i)\n",
        "\n",
        "  i+=1"
      ],
      "metadata": {
        "colab": {
          "base_uri": "https://localhost:8080/"
        },
        "id": "wqUrMPrDJ0cA",
        "outputId": "e852ca61-c36c-4007-d69f-ac0ef5c963f7"
      },
      "execution_count": 6,
      "outputs": [
        {
          "output_type": "stream",
          "name": "stdout",
          "text": [
            "55\n",
            "56\n",
            "57\n",
            "58\n",
            "59\n",
            "60\n",
            "61\n",
            "62\n",
            "63\n",
            "64\n",
            "65\n",
            "66\n",
            "67\n",
            "68\n",
            "69\n"
          ]
        }
      ]
    },
    {
      "cell_type": "code",
      "source": [
        "i = 33\n",
        "\n",
        "while i < 55:\n",
        "  print(i)\n",
        "  if i==40:\n",
        "    break     # so, here i am using \"break\" statemnt.\n",
        "  i+=1"
      ],
      "metadata": {
        "colab": {
          "base_uri": "https://localhost:8080/"
        },
        "id": "q_XaI6qRKAmy",
        "outputId": "187afd55-8161-4025-fa08-16b8c539de28"
      },
      "execution_count": 9,
      "outputs": [
        {
          "output_type": "stream",
          "name": "stdout",
          "text": [
            "33\n",
            "34\n",
            "35\n",
            "36\n",
            "37\n",
            "38\n",
            "39\n",
            "40\n"
          ]
        }
      ]
    },
    {
      "cell_type": "code",
      "source": [
        "i = 33\n",
        "\n",
        "while i < 40:\n",
        "  print(i)\n",
        "  if i==40:\n",
        "    continue   # so, here i am using \"continue\". it continue till 40 \n",
        "  i+=1"
      ],
      "metadata": {
        "colab": {
          "base_uri": "https://localhost:8080/"
        },
        "id": "zXR0KUAEKcyI",
        "outputId": "7617516c-b230-4630-d2f1-66860f2d87c3"
      },
      "execution_count": 19,
      "outputs": [
        {
          "output_type": "stream",
          "name": "stdout",
          "text": [
            "33\n",
            "34\n",
            "35\n",
            "36\n",
            "37\n",
            "38\n",
            "39\n"
          ]
        }
      ]
    },
    {
      "cell_type": "code",
      "source": [
        ""
      ],
      "metadata": {
        "id": "s_c3CPF8MD5p"
      },
      "execution_count": null,
      "outputs": []
    },
    {
      "cell_type": "markdown",
      "source": [
        "### FOR loop"
      ],
      "metadata": {
        "id": "5Cd5HYjPMFPH"
      }
    },
    {
      "cell_type": "code",
      "source": [
        "l = [1,2,34,5,66]   # so, here i am finding even number.\n",
        "\n",
        "for i in l:\n",
        "  if i%2==0:\n",
        "    print(i,\"even\")"
      ],
      "metadata": {
        "colab": {
          "base_uri": "https://localhost:8080/"
        },
        "id": "7aplnpmJK3Nt",
        "outputId": "58147c3e-403f-4349-accc-32b8f8b5f5c1"
      },
      "execution_count": 22,
      "outputs": [
        {
          "output_type": "stream",
          "name": "stdout",
          "text": [
            "2 even\n",
            "34 even\n",
            "66 even\n"
          ]
        }
      ]
    },
    {
      "cell_type": "code",
      "source": [
        ""
      ],
      "metadata": {
        "id": "08BnO8X_L5QL"
      },
      "execution_count": null,
      "outputs": []
    }
  ]
}